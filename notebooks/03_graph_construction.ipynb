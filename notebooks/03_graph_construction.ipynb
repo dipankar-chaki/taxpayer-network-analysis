{
 "cells": [
  {
   "cell_type": "markdown",
   "id": "88c4aa3a-3a95-4742-8070-6bcdd23375ce",
   "metadata": {},
   "source": [
    "# Import Required Libraries"
   ]
  },
  {
   "cell_type": "code",
   "execution_count": 1,
   "id": "4be64b13-ad5c-4bd7-a27a-db15e54cdabb",
   "metadata": {},
   "outputs": [],
   "source": [
    "import pandas as pd\n",
    "import networkx as nx\n",
    "import matplotlib.pyplot as plt\n",
    "import seaborn as sns"
   ]
  },
  {
   "cell_type": "markdown",
   "id": "7f3c86d4-7d1c-4831-9dd7-e74f32e2e899",
   "metadata": {},
   "source": [
    "# Load Clean Subset of PaySim Data"
   ]
  },
  {
   "cell_type": "code",
   "execution_count": 2,
   "id": "6f6adb38-eb06-44db-b9ee-c082ae9aaa33",
   "metadata": {},
   "outputs": [
    {
     "data": {
      "text/html": [
       "<div>\n",
       "<style scoped>\n",
       "    .dataframe tbody tr th:only-of-type {\n",
       "        vertical-align: middle;\n",
       "    }\n",
       "\n",
       "    .dataframe tbody tr th {\n",
       "        vertical-align: top;\n",
       "    }\n",
       "\n",
       "    .dataframe thead th {\n",
       "        text-align: right;\n",
       "    }\n",
       "</style>\n",
       "<table border=\"1\" class=\"dataframe\">\n",
       "  <thead>\n",
       "    <tr style=\"text-align: right;\">\n",
       "      <th></th>\n",
       "      <th>step</th>\n",
       "      <th>type</th>\n",
       "      <th>amount</th>\n",
       "      <th>nameOrig</th>\n",
       "      <th>oldbalanceOrg</th>\n",
       "      <th>newbalanceOrig</th>\n",
       "      <th>nameDest</th>\n",
       "      <th>oldbalanceDest</th>\n",
       "      <th>newbalanceDest</th>\n",
       "      <th>isFraud</th>\n",
       "      <th>isFlaggedFraud</th>\n",
       "    </tr>\n",
       "  </thead>\n",
       "  <tbody>\n",
       "    <tr>\n",
       "      <th>0</th>\n",
       "      <td>278</td>\n",
       "      <td>CASH_IN</td>\n",
       "      <td>330218.42</td>\n",
       "      <td>C632336343</td>\n",
       "      <td>20866.00</td>\n",
       "      <td>351084.42</td>\n",
       "      <td>C834976624</td>\n",
       "      <td>452419.57</td>\n",
       "      <td>122201.15</td>\n",
       "      <td>0</td>\n",
       "      <td>0</td>\n",
       "    </tr>\n",
       "    <tr>\n",
       "      <th>1</th>\n",
       "      <td>15</td>\n",
       "      <td>PAYMENT</td>\n",
       "      <td>11647.08</td>\n",
       "      <td>C1264712553</td>\n",
       "      <td>30370.00</td>\n",
       "      <td>18722.92</td>\n",
       "      <td>M215391829</td>\n",
       "      <td>0.00</td>\n",
       "      <td>0.00</td>\n",
       "      <td>0</td>\n",
       "      <td>0</td>\n",
       "    </tr>\n",
       "    <tr>\n",
       "      <th>2</th>\n",
       "      <td>10</td>\n",
       "      <td>CASH_IN</td>\n",
       "      <td>152264.21</td>\n",
       "      <td>C1746846248</td>\n",
       "      <td>106589.00</td>\n",
       "      <td>258853.21</td>\n",
       "      <td>C1607284477</td>\n",
       "      <td>201303.01</td>\n",
       "      <td>49038.80</td>\n",
       "      <td>0</td>\n",
       "      <td>0</td>\n",
       "    </tr>\n",
       "    <tr>\n",
       "      <th>3</th>\n",
       "      <td>403</td>\n",
       "      <td>TRANSFER</td>\n",
       "      <td>1551760.63</td>\n",
       "      <td>C333676753</td>\n",
       "      <td>0.00</td>\n",
       "      <td>0.00</td>\n",
       "      <td>C1564353608</td>\n",
       "      <td>3198359.45</td>\n",
       "      <td>4750120.08</td>\n",
       "      <td>0</td>\n",
       "      <td>0</td>\n",
       "    </tr>\n",
       "    <tr>\n",
       "      <th>4</th>\n",
       "      <td>206</td>\n",
       "      <td>CASH_IN</td>\n",
       "      <td>78172.30</td>\n",
       "      <td>C813403091</td>\n",
       "      <td>2921331.58</td>\n",
       "      <td>2999503.88</td>\n",
       "      <td>C1091768874</td>\n",
       "      <td>415821.90</td>\n",
       "      <td>337649.60</td>\n",
       "      <td>0</td>\n",
       "      <td>0</td>\n",
       "    </tr>\n",
       "  </tbody>\n",
       "</table>\n",
       "</div>"
      ],
      "text/plain": [
       "   step      type      amount     nameOrig  oldbalanceOrg  newbalanceOrig  \\\n",
       "0   278   CASH_IN   330218.42   C632336343       20866.00       351084.42   \n",
       "1    15   PAYMENT    11647.08  C1264712553       30370.00        18722.92   \n",
       "2    10   CASH_IN   152264.21  C1746846248      106589.00       258853.21   \n",
       "3   403  TRANSFER  1551760.63   C333676753           0.00            0.00   \n",
       "4   206   CASH_IN    78172.30   C813403091     2921331.58      2999503.88   \n",
       "\n",
       "      nameDest  oldbalanceDest  newbalanceDest  isFraud  isFlaggedFraud  \n",
       "0   C834976624       452419.57       122201.15        0               0  \n",
       "1   M215391829            0.00            0.00        0               0  \n",
       "2  C1607284477       201303.01        49038.80        0               0  \n",
       "3  C1564353608      3198359.45      4750120.08        0               0  \n",
       "4  C1091768874       415821.90       337649.60        0               0  "
      ]
     },
     "execution_count": 2,
     "metadata": {},
     "output_type": "execute_result"
    }
   ],
   "source": [
    "df = pd.read_csv('../data/processed/paysim_subset.csv')\n",
    "df.head()"
   ]
  },
  {
   "cell_type": "markdown",
   "id": "349fe499-6464-4637-8117-0b79641f8f56",
   "metadata": {},
   "source": [
    "# Build the Directed Graph"
   ]
  },
  {
   "cell_type": "code",
   "execution_count": 3,
   "id": "69a3e0f6-551b-4f3a-9e59-7ac9fb23f213",
   "metadata": {},
   "outputs": [],
   "source": [
    "G = nx.DiGraph()\n",
    "\n",
    "# Add edges: from -> to with attributes\n",
    "for idx, row in df.iterrows():\n",
    "    G.add_edge(\n",
    "        row['nameOrig'], \n",
    "        row['nameDest'], \n",
    "        amount=row['amount'], \n",
    "        isFraud=row['isFraud']\n",
    "    )"
   ]
  },
  {
   "cell_type": "markdown",
   "id": "c5bfe36b-5ae3-4437-9f12-9d1c71f0b26f",
   "metadata": {},
   "source": [
    "# Basic Network Stats"
   ]
  },
  {
   "cell_type": "code",
   "execution_count": 4,
   "id": "52a9b7bb-1f0f-4750-8c99-0e38f180f3ac",
   "metadata": {},
   "outputs": [
    {
     "name": "stdout",
     "output_type": "stream",
     "text": [
      "Number of nodes: 9982\n",
      "Number of edges: 5000\n"
     ]
    }
   ],
   "source": [
    "print(f\"Number of nodes: {G.number_of_nodes()}\")\n",
    "print(f\"Number of edges: {G.number_of_edges()}\")"
   ]
  },
  {
   "cell_type": "markdown",
   "id": "3756c392-181a-4611-bdc1-c8c13b87b73c",
   "metadata": {},
   "source": [
    "# Centrality Analysis\n",
    "### Identify influential accounts based on how connected or central they are."
   ]
  },
  {
   "cell_type": "code",
   "execution_count": 5,
   "id": "99d57a99-aefc-40c3-bf91-bdce64fce9e3",
   "metadata": {},
   "outputs": [
    {
     "name": "stdout",
     "output_type": "stream",
     "text": [
      "Top nodes by degree centrality: [('C1938475526', 0.00020038072337441137), ('C550754064', 0.00020038072337441137), ('C1027773814', 0.00020038072337441137), ('C1975918135', 0.00020038072337441137), ('C541258645', 0.00020038072337441137)]\n"
     ]
    },
    {
     "data": {
      "image/png": "[encoded data removed]",
      "text/plain": [
       "<Figure size 640x480 with 1 Axes>"
      ]
     },
     "metadata": {},
     "output_type": "display_data"
    }
   ],
   "source": [
    "degree_centrality = nx.degree_centrality(G)\n",
    "betweenness_centrality = nx.betweenness_centrality(G)\n",
    "\n",
    "# Top 5 central nodes by degree\n",
    "sorted_dc = sorted(degree_centrality.items(), key=lambda x: x[1], reverse=True)[:5]\n",
    "print(\"Top nodes by degree centrality:\", sorted_dc)\n",
    "\n",
    "# Optionally visualize distribution\n",
    "sns.histplot(list(degree_centrality.values()), bins=30)\n",
    "plt.title(\"Degree Centrality Distribution\")\n",
    "plt.show()"
   ]
  },
  {
   "cell_type": "markdown",
   "id": "fa2d30f1-f071-4350-ad69-856a98966315",
   "metadata": {},
   "source": [
    "# Community Detection (Weakly Connected Components)\n",
    "### This can give an early sense of isolated fraud rings."
   ]
  },
  {
   "cell_type": "code",
   "execution_count": 6,
   "id": "837ab039-6f0a-4c56-a760-04af2f157bf2",
   "metadata": {},
   "outputs": [
    {
     "name": "stdout",
     "output_type": "stream",
     "text": [
      "Number of weakly connected components: 4982\n",
      "Top 5 community sizes: [3, 3, 3, 3, 3]\n"
     ]
    }
   ],
   "source": [
    "components = list(nx.weakly_connected_components(G))\n",
    "print(f\"Number of weakly connected components: {len(components)}\")\n",
    "\n",
    "# Print size of top 5 components\n",
    "component_sizes = sorted([len(c) for c in components], reverse=True)[:5]\n",
    "print(\"Top 5 community sizes:\", component_sizes)"
   ]
  },
  {
   "cell_type": "markdown",
   "id": "0f087798-214e-41e1-8300-db3d8ec56c78",
   "metadata": {},
   "source": [
    "# Spotting Potential Anomalies\n",
    "### Accounts with many transactions, or only inflow/outflow, might be suspicious."
   ]
  },
  {
   "cell_type": "code",
   "execution_count": 7,
   "id": "e866650f-d07c-4653-836c-3a2ad593472f",
   "metadata": {},
   "outputs": [
    {
     "name": "stdout",
     "output_type": "stream",
     "text": [
      "Accounts with only one-sided flow: 9982\n"
     ]
    }
   ],
   "source": [
    "suspicious = []\n",
    "for node in G.nodes():\n",
    "    in_deg = G.in_degree(node)\n",
    "    out_deg = G.out_degree(node)\n",
    "    \n",
    "    if in_deg == 0 or out_deg == 0:\n",
    "        suspicious.append(node)\n",
    "\n",
    "print(f\"Accounts with only one-sided flow: {len(suspicious)}\")"
   ]
  },
  {
   "cell_type": "markdown",
   "id": "7db67ca8-f13b-4d0d-9a76-8267560d42a8",
   "metadata": {},
   "source": [
    "# Save Useful Data for Future Steps"
   ]
  },
  {
   "cell_type": "code",
   "execution_count": 9,
   "id": "665a2924-e52c-402e-b99f-bb736c4ac278",
   "metadata": {},
   "outputs": [],
   "source": [
    "import pickle\n",
    "\n",
    "with open(\"../data/processed/transaction_graph.gpickle\", \"wb\") as f:\n",
    "    pickle.dump(G, f)\n",
    "\n",
    "with open(\"../data/processed/transaction_graph.gpickle\", \"rb\") as f:\n",
    "    G = pickle.load(f)"
   ]
  },
  {
   "cell_type": "code",
   "execution_count": null,
   "id": "67976180-eef8-4336-95e4-a621a3ffa800",
   "metadata": {},
   "outputs": [],
   "source": []
  }
 ],
 "metadata": {
  "kernelspec": {
   "display_name": "Python 3 (ipykernel)",
   "language": "python",
   "name": "python3"
  },
  "language_info": {
   "codemirror_mode": {
    "name": "ipython",
    "version": 3
   },
   "file_extension": ".py",
   "mimetype": "text/x-python",
   "name": "python",
   "nbconvert_exporter": "python",
   "pygments_lexer": "ipython3",
   "version": "3.11.12"
  }
 },
 "nbformat": 4,
 "nbformat_minor": 5
}
