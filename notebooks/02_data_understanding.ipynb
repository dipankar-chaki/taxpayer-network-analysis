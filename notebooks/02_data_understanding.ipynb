{
 "cells": [
  {
   "cell_type": "markdown",
   "id": "bbe32c2c-ed5c-4ca9-b9de-97a205411d64",
   "metadata": {},
   "source": [
    "# Load the Dataset"
   ]
  },
  {
   "cell_type": "code",
   "execution_count": 1,
   "id": "86dd2469-af31-4ba5-9dbd-f979c690f25d",
   "metadata": {},
   "outputs": [
    {
     "name": "stdout",
     "output_type": "stream",
     "text": [
      "Shape: (5000, 11)\n"
     ]
    },
    {
     "data": {
      "text/html": [
       "<div>\n",
       "<style scoped>\n",
       "    .dataframe tbody tr th:only-of-type {\n",
       "        vertical-align: middle;\n",
       "    }\n",
       "\n",
       "    .dataframe tbody tr th {\n",
       "        vertical-align: top;\n",
       "    }\n",
       "\n",
       "    .dataframe thead th {\n",
       "        text-align: right;\n",
       "    }\n",
       "</style>\n",
       "<table border=\"1\" class=\"dataframe\">\n",
       "  <thead>\n",
       "    <tr style=\"text-align: right;\">\n",
       "      <th></th>\n",
       "      <th>step</th>\n",
       "      <th>type</th>\n",
       "      <th>amount</th>\n",
       "      <th>nameOrig</th>\n",
       "      <th>oldbalanceOrg</th>\n",
       "      <th>newbalanceOrig</th>\n",
       "      <th>nameDest</th>\n",
       "      <th>oldbalanceDest</th>\n",
       "      <th>newbalanceDest</th>\n",
       "      <th>isFraud</th>\n",
       "      <th>isFlaggedFraud</th>\n",
       "    </tr>\n",
       "  </thead>\n",
       "  <tbody>\n",
       "    <tr>\n",
       "      <th>0</th>\n",
       "      <td>278</td>\n",
       "      <td>CASH_IN</td>\n",
       "      <td>330218.42</td>\n",
       "      <td>C632336343</td>\n",
       "      <td>20866.00</td>\n",
       "      <td>351084.42</td>\n",
       "      <td>C834976624</td>\n",
       "      <td>452419.57</td>\n",
       "      <td>122201.15</td>\n",
       "      <td>0</td>\n",
       "      <td>0</td>\n",
       "    </tr>\n",
       "    <tr>\n",
       "      <th>1</th>\n",
       "      <td>15</td>\n",
       "      <td>PAYMENT</td>\n",
       "      <td>11647.08</td>\n",
       "      <td>C1264712553</td>\n",
       "      <td>30370.00</td>\n",
       "      <td>18722.92</td>\n",
       "      <td>M215391829</td>\n",
       "      <td>0.00</td>\n",
       "      <td>0.00</td>\n",
       "      <td>0</td>\n",
       "      <td>0</td>\n",
       "    </tr>\n",
       "    <tr>\n",
       "      <th>2</th>\n",
       "      <td>10</td>\n",
       "      <td>CASH_IN</td>\n",
       "      <td>152264.21</td>\n",
       "      <td>C1746846248</td>\n",
       "      <td>106589.00</td>\n",
       "      <td>258853.21</td>\n",
       "      <td>C1607284477</td>\n",
       "      <td>201303.01</td>\n",
       "      <td>49038.80</td>\n",
       "      <td>0</td>\n",
       "      <td>0</td>\n",
       "    </tr>\n",
       "    <tr>\n",
       "      <th>3</th>\n",
       "      <td>403</td>\n",
       "      <td>TRANSFER</td>\n",
       "      <td>1551760.63</td>\n",
       "      <td>C333676753</td>\n",
       "      <td>0.00</td>\n",
       "      <td>0.00</td>\n",
       "      <td>C1564353608</td>\n",
       "      <td>3198359.45</td>\n",
       "      <td>4750120.08</td>\n",
       "      <td>0</td>\n",
       "      <td>0</td>\n",
       "    </tr>\n",
       "    <tr>\n",
       "      <th>4</th>\n",
       "      <td>206</td>\n",
       "      <td>CASH_IN</td>\n",
       "      <td>78172.30</td>\n",
       "      <td>C813403091</td>\n",
       "      <td>2921331.58</td>\n",
       "      <td>2999503.88</td>\n",
       "      <td>C1091768874</td>\n",
       "      <td>415821.90</td>\n",
       "      <td>337649.60</td>\n",
       "      <td>0</td>\n",
       "      <td>0</td>\n",
       "    </tr>\n",
       "  </tbody>\n",
       "</table>\n",
       "</div>"
      ],
      "text/plain": [
       "   step      type      amount     nameOrig  oldbalanceOrg  newbalanceOrig  \\\n",
       "0   278   CASH_IN   330218.42   C632336343       20866.00       351084.42   \n",
       "1    15   PAYMENT    11647.08  C1264712553       30370.00        18722.92   \n",
       "2    10   CASH_IN   152264.21  C1746846248      106589.00       258853.21   \n",
       "3   403  TRANSFER  1551760.63   C333676753           0.00            0.00   \n",
       "4   206   CASH_IN    78172.30   C813403091     2921331.58      2999503.88   \n",
       "\n",
       "      nameDest  oldbalanceDest  newbalanceDest  isFraud  isFlaggedFraud  \n",
       "0   C834976624       452419.57       122201.15        0               0  \n",
       "1   M215391829            0.00            0.00        0               0  \n",
       "2  C1607284477       201303.01        49038.80        0               0  \n",
       "3  C1564353608      3198359.45      4750120.08        0               0  \n",
       "4  C1091768874       415821.90       337649.60        0               0  "
      ]
     },
     "execution_count": 1,
     "metadata": {},
     "output_type": "execute_result"
    }
   ],
   "source": [
    "import pandas as pd\n",
    "\n",
    "# Load the sampled dataset\n",
    "df = pd.read_csv(\"../data/processed/paysim_subset.csv\")\n",
    "\n",
    "# View shape and preview\n",
    "print(\"Shape:\", df.shape)\n",
    "df.head()"
   ]
  },
  {
   "cell_type": "markdown",
   "id": "f5b3f48e-f22a-4706-9b57-e0b56a613015",
   "metadata": {},
   "source": [
    "# Understand Column Meanings"
   ]
  },
  {
   "cell_type": "code",
   "execution_count": 2,
   "id": "4f8cba26-70bb-41a2-80b6-0bd03ce33409",
   "metadata": {},
   "outputs": [
    {
     "name": "stdout",
     "output_type": "stream",
     "text": [
      "<class 'pandas.core.frame.DataFrame'>\n",
      "RangeIndex: 5000 entries, 0 to 4999\n",
      "Data columns (total 11 columns):\n",
      " #   Column          Non-Null Count  Dtype  \n",
      "---  ------          --------------  -----  \n",
      " 0   step            5000 non-null   int64  \n",
      " 1   type            5000 non-null   object \n",
      " 2   amount          5000 non-null   float64\n",
      " 3   nameOrig        5000 non-null   object \n",
      " 4   oldbalanceOrg   5000 non-null   float64\n",
      " 5   newbalanceOrig  5000 non-null   float64\n",
      " 6   nameDest        5000 non-null   object \n",
      " 7   oldbalanceDest  5000 non-null   float64\n",
      " 8   newbalanceDest  5000 non-null   float64\n",
      " 9   isFraud         5000 non-null   int64  \n",
      " 10  isFlaggedFraud  5000 non-null   int64  \n",
      "dtypes: float64(5), int64(3), object(3)\n",
      "memory usage: 429.8+ KB\n"
     ]
    },
    {
     "data": {
      "text/plain": [
       "type\n",
       "CASH_OUT    1755\n",
       "PAYMENT     1711\n",
       "CASH_IN     1105\n",
       "TRANSFER     405\n",
       "DEBIT         24\n",
       "Name: count, dtype: int64"
      ]
     },
     "execution_count": 2,
     "metadata": {},
     "output_type": "execute_result"
    }
   ],
   "source": [
    "df.info()\n",
    "df.describe()\n",
    "df[\"type\"].value_counts()"
   ]
  },
  {
   "cell_type": "markdown",
   "id": "c1376458-f0af-4ce0-8c8e-21fe4876efa8",
   "metadata": {},
   "source": [
    "# Basic Sanity Checks"
   ]
  },
  {
   "cell_type": "code",
   "execution_count": 3,
   "id": "687a6ea5-6b3a-4413-be77-eb4f93f97171",
   "metadata": {},
   "outputs": [
    {
     "name": "stdout",
     "output_type": "stream",
     "text": [
      "['CASH_IN' 'PAYMENT' 'TRANSFER' 'CASH_OUT' 'DEBIT']\n",
      "Unique Senders: 5000\n",
      "Unique Recipients: 4982\n"
     ]
    }
   ],
   "source": [
    "# Any missing data?\n",
    "df.isnull().sum()\n",
    "\n",
    "# Unique types\n",
    "print(df['type'].unique())\n",
    "\n",
    "# Number of unique senders and receivers\n",
    "print(\"Unique Senders:\", df['nameOrig'].nunique())\n",
    "print(\"Unique Recipients:\", df['nameDest'].nunique())"
   ]
  },
  {
   "cell_type": "markdown",
   "id": "fcfc3264-ef19-4820-afcd-643ab79f9f32",
   "metadata": {},
   "source": [
    "# Filter to Relevant Transactions"
   ]
  },
  {
   "cell_type": "code",
   "execution_count": 4,
   "id": "a600b198-e00e-410c-947f-504b15f65fe6",
   "metadata": {},
   "outputs": [],
   "source": [
    "df = df[df['type'].isin(['TRANSFER', 'CASH_OUT'])].copy()\n",
    "df.reset_index(drop=True, inplace=True)"
   ]
  },
  {
   "cell_type": "markdown",
   "id": "8a86f0eb-91ee-4036-b79a-e3ce2a62094f",
   "metadata": {},
   "source": [
    "# Normalize Entity Names"
   ]
  },
  {
   "cell_type": "code",
   "execution_count": 5,
   "id": "ce799e56-b1bc-40de-be8b-e0abc1433326",
   "metadata": {},
   "outputs": [],
   "source": [
    "df['nameOrig'] = df['nameOrig'].apply(lambda x: f'src_{x.lower()}')\n",
    "df['nameDest'] = df['nameDest'].apply(lambda x: f'dst_{x.lower()}')"
   ]
  },
  {
   "cell_type": "code",
   "execution_count": 6,
   "id": "93583fe1-2494-4d86-a20e-a3b43112ec53",
   "metadata": {},
   "outputs": [],
   "source": [
    "df.to_csv(\"../data/processed/paysim_graph_ready.csv\", index=False)"
   ]
  },
  {
   "cell_type": "code",
   "execution_count": null,
   "id": "8fa85fe0-8814-4db7-b88b-3a0f0e424d75",
   "metadata": {},
   "outputs": [],
   "source": []
  }
 ],
 "metadata": {
  "kernelspec": {
   "display_name": "Python 3 (ipykernel)",
   "language": "python",
   "name": "python3"
  },
  "language_info": {
   "codemirror_mode": {
    "name": "ipython",
    "version": 3
   },
   "file_extension": ".py",
   "mimetype": "text/x-python",
   "name": "python",
   "nbconvert_exporter": "python",
   "pygments_lexer": "ipython3",
   "version": "3.11.12"
  }
 },
 "nbformat": 4,
 "nbformat_minor": 5
}
